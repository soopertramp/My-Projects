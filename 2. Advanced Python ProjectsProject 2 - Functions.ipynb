{
  "nbformat": 4,
  "nbformat_minor": 0,
  "metadata": {
    "colab": {
      "provenance": [],
      "collapsed_sections": [],
      "include_colab_link": true
    },
    "kernelspec": {
      "name": "python3",
      "display_name": "Python 3"
    }
  },
  "cells": [
    {
      "cell_type": "markdown",
      "metadata": {
        "id": "view-in-github",
        "colab_type": "text"
      },
      "source": [
        "<a href=\"https://colab.research.google.com/github/soopertramp/My-Projects/blob/main/2.%20Advanced%20Python%20ProjectsProject%202%20-%20Functions.ipynb\" target=\"_parent\"><img src=\"https://colab.research.google.com/assets/colab-badge.svg\" alt=\"Open In Colab\"/></a>"
      ]
    },
    {
      "cell_type": "markdown",
      "metadata": {
        "id": "sfCX1u1zLS7o"
      },
      "source": [
        "#### **Problem 1** :  Create a function which takes in an encoded string and returns a dictionary according to the following example:\n",
        "\n",
        "parse_code(\"John000Doe000123\") ➞ {\n",
        "  \"first_name\": \"John\",\n",
        "  \"last_name\": \"Doe\",\n",
        "  \"id\": \"123\"\n",
        "}\n",
        "\n",
        "parse_code(\"michael0smith004331\") ➞ {\n",
        "  \"first_name\": \"michael\",\n",
        "  \"last_name\": \"smith\",\n",
        "  \"id\": \"4331\"\n",
        "}\n",
        "\n",
        "parse_code(\"Thomas00LEE0000043\") ➞ {\n",
        "  \"first_name\": \"Thomas\",\n",
        "  \"last_name\": \"LEE\",\n",
        "  \"id\": \"43\"\n",
        "}"
      ]
    },
    {
      "cell_type": "code",
      "metadata": {
        "id": "ktmy-hs5Mqn8",
        "colab": {
          "base_uri": "https://localhost:8080/"
        },
        "outputId": "07a9440d-8b90-447f-f93c-5435a9e1645d"
      },
      "source": [
        "# Your code here\n",
        "\n",
        "encoded_string1 = 'Pradeepchandra000Reddy S C07'\n",
        "encoded_string2 = 'michael0smith004331'\n",
        "\n",
        "def get_dict_names(encoded_string):\n",
        "  data = encoded_string.split('0')\n",
        "  for i in range(data.count('')):\n",
        "    data.remove('')\n",
        "\n",
        "  dict_data={\"first_name\":str(data[0]),\"last_name\":str(data[1]),\"id\":str(data[2])}\n",
        "  \n",
        "  return dict_data\n",
        "get_dict_names(encoded_string1)"
      ],
      "execution_count": null,
      "outputs": [
        {
          "output_type": "execute_result",
          "data": {
            "text/plain": [
              "{'first_name': 'Pradeepchandra', 'last_name': 'Reddy S C', 'id': '7'}"
            ]
          },
          "metadata": {},
          "execution_count": 1
        }
      ]
    },
    {
      "cell_type": "code",
      "source": [
        "get_dict_names(encoded_string2)"
      ],
      "metadata": {
        "colab": {
          "base_uri": "https://localhost:8080/"
        },
        "id": "ROXsUS_fQc4N",
        "outputId": "da7a6bea-ebd3-4237-d235-26d3ad0cebe5"
      },
      "execution_count": null,
      "outputs": [
        {
          "output_type": "execute_result",
          "data": {
            "text/plain": [
              "{'first_name': 'michael', 'last_name': 'smith', 'id': '4331'}"
            ]
          },
          "metadata": {},
          "execution_count": 2
        }
      ]
    },
    {
      "cell_type": "markdown",
      "metadata": {
        "id": "H5Bbigt7L95Y"
      },
      "source": [
        "#### **Problem 2** : Create a function that takes in n, a, b and returns the number of positive values raised to the nth power that lie in the range [a, b], inclusive.\n",
        "\n",
        "power_ranger(2, 49, 65) ➞ 2\n",
        "\n",
        " 2 squares (n^2) lie between 49 and 65, 49 (7^2) and 64 (8^2)\n",
        "\n",
        "power_ranger(3, 1, 27) ➞ 3\n",
        "\n",
        " 3 cubes (n^3) lie between 1 and 27, 1 (1^3), 8 (2^3) and 27 (3^3)\n",
        "\n",
        "power_ranger(10, 1, 5) ➞ 1\n",
        "\n",
        " 1 value raised to the 10th power lies between 1 and 5, 1 (1^10)\n"
      ]
    },
    {
      "cell_type": "code",
      "metadata": {
        "id": "MwCjQmL6MoKR"
      },
      "source": [
        "# Your code here\n",
        "\n",
        "def power_ranger(n,a,b):\n",
        "  \"\"\"Returns the number of positive values raised to the nth power that lie in the range [a, b]\"\"\"\n",
        "    \n",
        "  count = 0\n",
        "  for i in range(b): \n",
        "      if i**n in range(a,b+1): \n",
        "        count+=1\n",
        "  return count"
      ],
      "execution_count": null,
      "outputs": []
    },
    {
      "cell_type": "code",
      "source": [
        "print(power_ranger(2,49,65))"
      ],
      "metadata": {
        "colab": {
          "base_uri": "https://localhost:8080/"
        },
        "id": "9YK-rBQ2RVJP",
        "outputId": "f576219b-7208-4e11-dda8-0a0f967a570f"
      },
      "execution_count": null,
      "outputs": [
        {
          "output_type": "stream",
          "name": "stdout",
          "text": [
            "2\n"
          ]
        }
      ]
    },
    {
      "cell_type": "code",
      "source": [
        "power_ranger(3, 1, 27)"
      ],
      "metadata": {
        "colab": {
          "base_uri": "https://localhost:8080/"
        },
        "id": "ugsVy3sRSKWW",
        "outputId": "0eaa6360-da83-4869-c362-7218fa59cc2d"
      },
      "execution_count": null,
      "outputs": [
        {
          "output_type": "execute_result",
          "data": {
            "text/plain": [
              "3"
            ]
          },
          "metadata": {},
          "execution_count": 5
        }
      ]
    },
    {
      "cell_type": "markdown",
      "metadata": {
        "id": "QbZFKVo_Ne5V"
      },
      "source": [
        "#### **Problem 3** : Create a function that returns the Primorial of a number.\n",
        "\n",
        "#### A Primorial is a product of the first n prime numbers (e.g. 2 x 3 x 5 = 30). 2, 3, 5, 7, 11, 13 are prime numbers. If n was 3, you'd multiply 2 x 3 x 5 = 30 or Primorial = 30.\n",
        "\n"
      ]
    },
    {
      "cell_type": "code",
      "metadata": {
        "id": "Ep95xGJ3NlGo"
      },
      "source": [
        "# Your code here\n",
        "\n",
        "def check_prime(input):\n",
        "    if input==2:\n",
        "        return True\n",
        "\n",
        "    for rem in range(2,int(input**0.5)+1):\n",
        "        if input % rem == 0:\n",
        "            return False\n",
        "    return True\n",
        "\n",
        "def primorial(number):\n",
        "    \"\"\"Find The Primorial till the input number\"\"\"\n",
        "    num=2\n",
        "    result=1\n",
        "    count=0\n",
        "    while count < number:\n",
        "        if check_prime(num):\n",
        "            count+=1\n",
        "            result*=num        \n",
        "            num+=1  \n",
        "        else:\n",
        "            num+=1\n",
        "    return result"
      ],
      "execution_count": null,
      "outputs": []
    },
    {
      "cell_type": "code",
      "source": [
        "primorial(5)"
      ],
      "metadata": {
        "colab": {
          "base_uri": "https://localhost:8080/"
        },
        "id": "cxa1wG9ZSzf-",
        "outputId": "58d0593e-2651-4093-ac0c-13e19ee7f94f"
      },
      "execution_count": null,
      "outputs": [
        {
          "output_type": "execute_result",
          "data": {
            "text/plain": [
              "2310"
            ]
          },
          "metadata": {},
          "execution_count": 7
        }
      ]
    },
    {
      "cell_type": "code",
      "source": [
        "primorial(2)"
      ],
      "metadata": {
        "colab": {
          "base_uri": "https://localhost:8080/"
        },
        "id": "8RgfquW3TBUt",
        "outputId": "c55eebbd-b665-4f18-ba4f-304aa7e6981d"
      },
      "execution_count": null,
      "outputs": [
        {
          "output_type": "execute_result",
          "data": {
            "text/plain": [
              "6"
            ]
          },
          "metadata": {},
          "execution_count": 8
        }
      ]
    },
    {
      "cell_type": "code",
      "source": [
        "primorial(4)"
      ],
      "metadata": {
        "colab": {
          "base_uri": "https://localhost:8080/"
        },
        "id": "DDAQtNWqTQkm",
        "outputId": "dbb6d301-4b04-4812-9424-7cf0e94826ba"
      },
      "execution_count": null,
      "outputs": [
        {
          "output_type": "execute_result",
          "data": {
            "text/plain": [
              "210"
            ]
          },
          "metadata": {},
          "execution_count": 9
        }
      ]
    },
    {
      "cell_type": "code",
      "source": [
        "check_prime(4)"
      ],
      "metadata": {
        "colab": {
          "base_uri": "https://localhost:8080/"
        },
        "id": "6D9mQD8TTfLd",
        "outputId": "a0daa8da-aa9d-48a4-eea1-5f07d9ea56fe"
      },
      "execution_count": null,
      "outputs": [
        {
          "output_type": "execute_result",
          "data": {
            "text/plain": [
              "False"
            ]
          },
          "metadata": {},
          "execution_count": 10
        }
      ]
    },
    {
      "cell_type": "markdown",
      "metadata": {
        "id": "35J_XiFgPDlq"
      },
      "source": [
        "#### **Problem 4** : Create a function that tells whether a given substring is cyclic in a larger original string.\n",
        "\n",
        "#### Consider a string <code>'principal'</code> and imagine all these letters occupying a round table. A string such as <code>'ipalp' </code> can be considered as a cyclic sub string of length 5 of the original string <code>'principal'</code>. Essentially, cyclicity stems from any situation in which you find a string of length $M$ such that all the letters are sitting together and they can be traversed in a clockwise direction and $M$ < $N$ where $N$ is the length of the original string\n",
        "\n",
        "\n"
      ]
    },
    {
      "cell_type": "markdown",
      "metadata": {
        "id": "cRjtx7i3RFA6"
      },
      "source": [
        "![Self Project.PNG](data:image/png;base64,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)"
      ]
    },
    {
      "cell_type": "code",
      "metadata": {
        "id": "aNjP4v56RHbR"
      },
      "source": [
        "# Your code here\n",
        "\n",
        "def check_cyclic(string, substring):\n",
        "  if substring in 2 * string:\n",
        "    print(f\"Yes the substring is cyclic of length {len(substring)}\")\n",
        "  else:\n",
        "    print(\"The substring is not cyclic\")"
      ],
      "execution_count": null,
      "outputs": []
    },
    {
      "cell_type": "code",
      "source": [
        "check_cyclic('principal','ipalp')"
      ],
      "metadata": {
        "colab": {
          "base_uri": "https://localhost:8080/"
        },
        "id": "xDYytRpNUvMv",
        "outputId": "413ffb4a-7166-45ec-e338-25407841c297"
      },
      "execution_count": null,
      "outputs": [
        {
          "output_type": "stream",
          "name": "stdout",
          "text": [
            "Yes the substring is cyclic of length 5\n"
          ]
        }
      ]
    },
    {
      "cell_type": "code",
      "source": [
        "check_cyclic('pradeep','rdeep')"
      ],
      "metadata": {
        "colab": {
          "base_uri": "https://localhost:8080/"
        },
        "id": "zUGjSRXsUyYn",
        "outputId": "bafd5fcc-c671-496e-cc33-2031325ae6ac"
      },
      "execution_count": null,
      "outputs": [
        {
          "output_type": "stream",
          "name": "stdout",
          "text": [
            "The substring is not cyclic\n"
          ]
        }
      ]
    }
  ]
}